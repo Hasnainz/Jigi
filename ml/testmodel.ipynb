{
 "cells": [
  {
   "cell_type": "code",
   "execution_count": 4,
   "metadata": {},
   "outputs": [],
   "source": [
    "from glob import glob\n",
    "import matplotlib.pylab as plt\n",
    "import sys\n",
    "import os\n",
    "import tensorflow as tf\n",
    "import cv2\n",
    "import numpy as np\n",
    "from PIL import Image\n",
    "\n",
    "model = tf.keras.models.load_model('my_model.keras')\n",
    "\n",
    "\n",
    "\n"
   ]
  },
  {
   "cell_type": "code",
   "execution_count": 5,
   "metadata": {},
   "outputs": [
    {
     "name": "stdout",
     "output_type": "stream",
     "text": [
      "\u001b[1m1/1\u001b[0m \u001b[32m━━━━━━━━━━━━━━━━━━━━\u001b[0m\u001b[37m\u001b[0m \u001b[1m3s\u001b[0m 3s/step\n"
     ]
    },
    {
     "data": {
      "image/png": "[encoded data removed]",
      "text/plain": [
       "<Figure size 800x800 with 1 Axes>"
      ]
     },
     "metadata": {},
     "output_type": "display_data"
    },
    {
     "name": "stdout",
     "output_type": "stream",
     "text": [
      "['嘖', '噴', '頃', '嗄', '賣', '墳', '喟', '咳', '壇', 'の']\n"
     ]
    }
   ],
   "source": [
    "path = f'/tmp/dcs-tmp.u2104990/dataset1/new-modified-dataset/0x5616/467514.png'\n",
    "\n",
    "\n",
    "image = cv2.imread(path)\n",
    "fig, ax = plt.subplots(figsize=(8, 8))\n",
    "ax.imshow(image)\n",
    "ax.axis('off')\n",
    "\n",
    "sample = tf.keras.preprocessing.image.load_img(\n",
    "    path=path,\n",
    "    color_mode=\"grayscale\",\n",
    "    interpolation=\"laczos3\",\n",
    "    target_size=(64, 64),\n",
    "    keep_aspect_ratio=True\n",
    ")\n",
    "sample = tf.keras.preprocessing.image.img_to_array(sample)\n",
    "sample = sample.reshape((1,64,64,1))\n",
    "\n",
    "prediction = model.predict(sample)[0]\n",
    "ind = np.argpartition(prediction, -10)[-10:]\n",
    "\n",
    "hex_labels = os.listdir(\"/tmp/dcs-tmp.u2104990/dataset1/new-modified-dataset/\")\n",
    "temp_hex_labels = sorted([chr(int(x,16)) for x in hex_labels])\n",
    "q = [temp_hex_labels[i] for i in ind]\n",
    "\n",
    "plt.show()\n",
    "print([x for x in reversed(q)])\n"
   ]
  },
  {
   "cell_type": "code",
   "execution_count": 26,
   "metadata": {},
   "outputs": [],
   "source": [
    "with open('label-map.txt', 'w') as f:\n",
    "    f.write(f\"val labelsMap = mapOf(\\n\")\n",
    "    for i, label in enumerate(temp_hex_labels):\n",
    "        f.write(f\"{i} to \\\"{label}\\\",\\n\")\n",
    "    f.write(\")\")"
   ]
  },
  {
   "cell_type": "code",
   "execution_count": 33,
   "metadata": {},
   "outputs": [
    {
     "name": "stdout",
     "output_type": "stream",
     "text": [
      "6512\n",
      "['0x3042']\n"
     ]
    }
   ],
   "source": [
    "hex_labels = os.listdir(\"/dcs/large/u2104990/tmp2/new-modified-dataset/\")\n",
    "\n",
    "print(len(hex_labels))\n",
    "print([a for a in hex_labels if chr(int(a, 16)) == 'あ'])"
   ]
  }
 ],
 "metadata": {
  "kernelspec": {
   "display_name": "Python 3",
   "language": "python",
   "name": "python3"
  },
  "language_info": {
   "codemirror_mode": {
    "name": "ipython",
    "version": 3
   },
   "file_extension": ".py",
   "mimetype": "text/x-python",
   "name": "python",
   "nbconvert_exporter": "python",
   "pygments_lexer": "ipython3",
   "version": "3.12.5"
  }
 },
 "nbformat": 4,
 "nbformat_minor": 2
}
